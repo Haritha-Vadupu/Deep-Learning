{
 "cells": [
  {
   "cell_type": "code",
   "execution_count": 1,
   "metadata": {},
   "outputs": [],
   "source": [
    "import numpy as np\n",
    "import pandas as pd"
   ]
  },
  {
   "cell_type": "code",
   "execution_count": 3,
   "metadata": {},
   "outputs": [],
   "source": [
    "url = \"https://archive.ics.uci.edu/ml/machine-learning-databases/iris/iris.data\"\n",
    "names = ['sepal length', 'sepal width', 'petal length', 'petal width', 'class']\n",
    "ds = pd.read_csv(url, names=names)"
   ]
  },
  {
   "cell_type": "code",
   "execution_count": 4,
   "metadata": {},
   "outputs": [
    {
     "data": {
      "text/html": [
       "<div>\n",
       "<style scoped>\n",
       "    .dataframe tbody tr th:only-of-type {\n",
       "        vertical-align: middle;\n",
       "    }\n",
       "\n",
       "    .dataframe tbody tr th {\n",
       "        vertical-align: top;\n",
       "    }\n",
       "\n",
       "    .dataframe thead th {\n",
       "        text-align: right;\n",
       "    }\n",
       "</style>\n",
       "<table border=\"1\" class=\"dataframe\">\n",
       "  <thead>\n",
       "    <tr style=\"text-align: right;\">\n",
       "      <th></th>\n",
       "      <th>sepal length</th>\n",
       "      <th>sepal width</th>\n",
       "      <th>petal length</th>\n",
       "      <th>petal width</th>\n",
       "      <th>class</th>\n",
       "    </tr>\n",
       "  </thead>\n",
       "  <tbody>\n",
       "    <tr>\n",
       "      <th>0</th>\n",
       "      <td>5.1</td>\n",
       "      <td>3.5</td>\n",
       "      <td>1.4</td>\n",
       "      <td>0.2</td>\n",
       "      <td>Iris-setosa</td>\n",
       "    </tr>\n",
       "    <tr>\n",
       "      <th>1</th>\n",
       "      <td>4.9</td>\n",
       "      <td>3.0</td>\n",
       "      <td>1.4</td>\n",
       "      <td>0.2</td>\n",
       "      <td>Iris-setosa</td>\n",
       "    </tr>\n",
       "    <tr>\n",
       "      <th>2</th>\n",
       "      <td>4.7</td>\n",
       "      <td>3.2</td>\n",
       "      <td>1.3</td>\n",
       "      <td>0.2</td>\n",
       "      <td>Iris-setosa</td>\n",
       "    </tr>\n",
       "    <tr>\n",
       "      <th>3</th>\n",
       "      <td>4.6</td>\n",
       "      <td>3.1</td>\n",
       "      <td>1.5</td>\n",
       "      <td>0.2</td>\n",
       "      <td>Iris-setosa</td>\n",
       "    </tr>\n",
       "    <tr>\n",
       "      <th>4</th>\n",
       "      <td>5.0</td>\n",
       "      <td>3.6</td>\n",
       "      <td>1.4</td>\n",
       "      <td>0.2</td>\n",
       "      <td>Iris-setosa</td>\n",
       "    </tr>\n",
       "  </tbody>\n",
       "</table>\n",
       "</div>"
      ],
      "text/plain": [
       "   sepal length  sepal width  petal length  petal width        class\n",
       "0           5.1          3.5           1.4          0.2  Iris-setosa\n",
       "1           4.9          3.0           1.4          0.2  Iris-setosa\n",
       "2           4.7          3.2           1.3          0.2  Iris-setosa\n",
       "3           4.6          3.1           1.5          0.2  Iris-setosa\n",
       "4           5.0          3.6           1.4          0.2  Iris-setosa"
      ]
     },
     "execution_count": 4,
     "metadata": {},
     "output_type": "execute_result"
    }
   ],
   "source": [
    "ds.head()"
   ]
  },
  {
   "cell_type": "code",
   "execution_count": 5,
   "metadata": {},
   "outputs": [],
   "source": [
    "#normalization\n",
    "\n",
    "list_sl=[]\n",
    "list_sw=[]\n",
    "list_pl=[]\n",
    "list_pw=[]\n",
    "for sl in ds['sepal length']:\n",
    "    sl = (sl-min(ds['sepal length']))/(max(ds['sepal length'])-min(ds['sepal length']))\n",
    "    list_sl.append(sl)\n",
    "for sw in ds['sepal width']:\n",
    "    sw = (sw-min(ds['sepal width']))/(max(ds['sepal width'])-min(ds['sepal width']))\n",
    "    list_sw.append(sw)    \n",
    "for pl in ds['petal length']:\n",
    "    pl = (pl-min(ds['petal length']))/(max(ds['petal length'])-min(ds['petal length']))\n",
    "    list_pl.append(pl)\n",
    "for pw in ds['petal width']:\n",
    "    pw = (pw-min(ds['petal width']))/(max(ds['petal width'])-min(ds['petal width']))\n",
    "    list_pw.append(pw) \n",
    "\n",
    "X = np.array( list(zip(list_sl,list_sw, list_pl, list_pw)) )"
   ]
  },
  {
   "cell_type": "code",
   "execution_count": 6,
   "metadata": {},
   "outputs": [],
   "source": [
    "nc = 3         # number of classes\n",
    "W = []         # list for w vectors\n",
    "M = len(X)     # number of x vectors\n",
    "N = len(X[0])  # dimensionality of x vectors"
   ]
  },
  {
   "cell_type": "code",
   "execution_count": 7,
   "metadata": {},
   "outputs": [],
   "source": [
    "def get_weights():\n",
    "    y = np.random.random() * (2.0 / np.sqrt(M))\n",
    "    return 0.5 - (1 / np.sqrt(M)) + y"
   ]
  },
  {
   "cell_type": "code",
   "execution_count": 8,
   "metadata": {},
   "outputs": [],
   "source": [
    "for i in range(nc):\n",
    "    W.append(list())\n",
    "    for j in range(N):\n",
    "        W[i].append(get_weights() * 0.5)"
   ]
  },
  {
   "cell_type": "code",
   "execution_count": 9,
   "metadata": {},
   "outputs": [],
   "source": [
    "def distance(w, x):\n",
    "    r = 0\n",
    "    for i in range(len(w)):\n",
    "        r = r + (w[i] - x[i])*(w[i] - x[i])\n",
    "    \n",
    "    r = np.sqrt(r)\n",
    "    return r"
   ]
  },
  {
   "cell_type": "code",
   "execution_count": 10,
   "metadata": {},
   "outputs": [],
   "source": [
    "def Findclosest(W, x):\n",
    "    wm = W[0]\n",
    "    r = distance(wm, x)\n",
    "    \n",
    "    i = 0\n",
    "    i_n = i\n",
    "    \n",
    "    for w in W:\n",
    "        if distance(w, x) < r:\n",
    "            r = distance(w, x)\n",
    "            wm = w\n",
    "            i_n = i\n",
    "        i = i + 1\n",
    "    \n",
    "    return (wm, i_n)"
   ]
  },
  {
   "cell_type": "code",
   "execution_count": 11,
   "metadata": {},
   "outputs": [
    {
     "name": "stdout",
     "output_type": "stream",
     "text": [
      "[[0.22633392418438025, 0.2213761380433163, 0.24529493739602531, 0.22466309384745428], [0.2773319068688108, 0.2636421659113041, 0.2720829230142569, 0.2860901376629199], [0.22517934547431934, 0.21680111771965538, 0.2629030901065213, 0.2208421732357649]]\n"
     ]
    }
   ],
   "source": [
    "print(W)"
   ]
  },
  {
   "cell_type": "code",
   "execution_count": 12,
   "metadata": {},
   "outputs": [],
   "source": [
    "la = 0.3    # λ coefficient\n",
    "dla = 0.05  # Δλ\n",
    "\n",
    "while la >= 0:\n",
    "    for k in range(10):\n",
    "        for x in X:\n",
    "            wm = Findclosest(W, x)[0]\n",
    "            for i in range(len(wm)):\n",
    "                wm[i] = wm[i] + la * (x[i] - wm[i]) \n",
    "\n",
    "    la = la - dla"
   ]
  },
  {
   "cell_type": "code",
   "execution_count": 13,
   "metadata": {},
   "outputs": [
    {
     "name": "stderr",
     "output_type": "stream",
     "text": [
      "C:\\Users\\hp\\Anaconda3\\envs\\deeplearning\\lib\\site-packages\\ipykernel_launcher.py:6: FutureWarning: Method .as_matrix will be removed in a future version. Use .values instead.\n",
      "  \n"
     ]
    }
   ],
   "source": [
    "Data = list() \n",
    "\n",
    "for i in range(len(W)):\n",
    "    Data.append(list())\n",
    "\n",
    "dfList = ds['class'].as_matrix()"
   ]
  },
  {
   "cell_type": "code",
   "execution_count": 14,
   "metadata": {},
   "outputs": [
    {
     "name": "stdout",
     "output_type": "stream",
     "text": [
      "[[0, 'Iris-setosa'], [0, 'Iris-setosa'], [0, 'Iris-setosa'], [0, 'Iris-setosa'], [0, 'Iris-setosa'], [0, 'Iris-setosa'], [0, 'Iris-setosa'], [0, 'Iris-setosa'], [0, 'Iris-setosa'], [0, 'Iris-setosa'], [0, 'Iris-setosa'], [0, 'Iris-setosa'], [0, 'Iris-setosa'], [0, 'Iris-setosa'], [0, 'Iris-setosa'], [0, 'Iris-setosa'], [0, 'Iris-setosa'], [0, 'Iris-setosa'], [0, 'Iris-setosa'], [0, 'Iris-setosa'], [0, 'Iris-setosa'], [0, 'Iris-setosa'], [0, 'Iris-setosa'], [0, 'Iris-setosa'], [0, 'Iris-setosa'], [0, 'Iris-setosa'], [0, 'Iris-setosa'], [0, 'Iris-setosa'], [0, 'Iris-setosa'], [0, 'Iris-setosa'], [0, 'Iris-setosa'], [0, 'Iris-setosa'], [0, 'Iris-setosa'], [0, 'Iris-setosa'], [0, 'Iris-setosa'], [0, 'Iris-setosa'], [0, 'Iris-setosa'], [0, 'Iris-setosa'], [0, 'Iris-setosa'], [0, 'Iris-setosa'], [0, 'Iris-setosa'], [0, 'Iris-setosa'], [0, 'Iris-setosa'], [0, 'Iris-setosa'], [0, 'Iris-setosa'], [0, 'Iris-setosa'], [0, 'Iris-setosa'], [0, 'Iris-setosa'], [0, 'Iris-setosa'], [0, 'Iris-setosa'], [1, 'Iris-versicolor'], [2, 'Iris-versicolor'], [1, 'Iris-versicolor'], [2, 'Iris-versicolor'], [2, 'Iris-versicolor'], [2, 'Iris-versicolor'], [2, 'Iris-versicolor'], [2, 'Iris-versicolor'], [2, 'Iris-versicolor'], [2, 'Iris-versicolor'], [2, 'Iris-versicolor'], [2, 'Iris-versicolor'], [2, 'Iris-versicolor'], [2, 'Iris-versicolor'], [2, 'Iris-versicolor'], [2, 'Iris-versicolor'], [2, 'Iris-versicolor'], [2, 'Iris-versicolor'], [2, 'Iris-versicolor'], [2, 'Iris-versicolor'], [2, 'Iris-versicolor'], [2, 'Iris-versicolor'], [2, 'Iris-versicolor'], [2, 'Iris-versicolor'], [2, 'Iris-versicolor'], [2, 'Iris-versicolor'], [2, 'Iris-versicolor'], [1, 'Iris-versicolor'], [2, 'Iris-versicolor'], [2, 'Iris-versicolor'], [2, 'Iris-versicolor'], [2, 'Iris-versicolor'], [2, 'Iris-versicolor'], [2, 'Iris-versicolor'], [2, 'Iris-versicolor'], [2, 'Iris-versicolor'], [2, 'Iris-versicolor'], [2, 'Iris-versicolor'], [2, 'Iris-versicolor'], [2, 'Iris-versicolor'], [2, 'Iris-versicolor'], [2, 'Iris-versicolor'], [2, 'Iris-versicolor'], [2, 'Iris-versicolor'], [2, 'Iris-versicolor'], [2, 'Iris-versicolor'], [2, 'Iris-versicolor'], [2, 'Iris-versicolor'], [2, 'Iris-versicolor'], [2, 'Iris-versicolor'], [1, 'Iris-virginica'], [2, 'Iris-virginica'], [1, 'Iris-virginica'], [1, 'Iris-virginica'], [1, 'Iris-virginica'], [1, 'Iris-virginica'], [2, 'Iris-virginica'], [1, 'Iris-virginica'], [1, 'Iris-virginica'], [1, 'Iris-virginica'], [1, 'Iris-virginica'], [2, 'Iris-virginica'], [1, 'Iris-virginica'], [2, 'Iris-virginica'], [1, 'Iris-virginica'], [1, 'Iris-virginica'], [1, 'Iris-virginica'], [1, 'Iris-virginica'], [1, 'Iris-virginica'], [2, 'Iris-virginica'], [1, 'Iris-virginica'], [2, 'Iris-virginica'], [1, 'Iris-virginica'], [2, 'Iris-virginica'], [1, 'Iris-virginica'], [1, 'Iris-virginica'], [2, 'Iris-virginica'], [2, 'Iris-virginica'], [1, 'Iris-virginica'], [1, 'Iris-virginica'], [1, 'Iris-virginica'], [1, 'Iris-virginica'], [1, 'Iris-virginica'], [2, 'Iris-virginica'], [2, 'Iris-virginica'], [1, 'Iris-virginica'], [1, 'Iris-virginica'], [1, 'Iris-virginica'], [2, 'Iris-virginica'], [1, 'Iris-virginica'], [1, 'Iris-virginica'], [1, 'Iris-virginica'], [2, 'Iris-virginica'], [1, 'Iris-virginica'], [1, 'Iris-virginica'], [1, 'Iris-virginica'], [2, 'Iris-virginica'], [1, 'Iris-virginica'], [1, 'Iris-virginica'], [2, 'Iris-virginica']]\n"
     ]
    }
   ],
   "source": [
    "DS = list()\n",
    "i = 0\n",
    "for x in X:\n",
    "    i_n = Findclosest(W, x)[1]\n",
    "    Data[i_n].append(x)\n",
    "    DS.append([i_n, dfList[i]])\n",
    "    i = i + 1\n",
    "\n",
    "print (DS)"
   ]
  },
  {
   "cell_type": "code",
   "execution_count": null,
   "metadata": {},
   "outputs": [],
   "source": []
  }
 ],
 "metadata": {
  "kernelspec": {
   "display_name": "Python 3",
   "language": "python",
   "name": "python3"
  },
  "language_info": {
   "codemirror_mode": {
    "name": "ipython",
    "version": 3
   },
   "file_extension": ".py",
   "mimetype": "text/x-python",
   "name": "python",
   "nbconvert_exporter": "python",
   "pygments_lexer": "ipython3",
   "version": "3.7.5"
  }
 },
 "nbformat": 4,
 "nbformat_minor": 2
}
