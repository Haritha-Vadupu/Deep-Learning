{
 "cells": [
  {
   "cell_type": "code",
   "execution_count": 1,
   "metadata": {},
   "outputs": [],
   "source": [
    "import pandas as pd\n",
    "import io\n",
    "import requests\n",
    "import numpy as np\n",
    "from sklearn import metrics\n",
    "from tensorflow.keras.models import Sequential\n",
    "from tensorflow.keras.layers import Dense, Activation\n",
    "from tensorflow.keras.callbacks import EarlyStopping\n"
   ]
  },
  {
   "cell_type": "code",
   "execution_count": 5,
   "metadata": {},
   "outputs": [],
   "source": [
    "df = pd.read_csv(\n",
    "    \"iriscsv/Iris.csv\", \n",
    "    na_values=['NA', '?'])"
   ]
  },
  {
   "cell_type": "code",
   "execution_count": 7,
   "metadata": {},
   "outputs": [
    {
     "name": "stdout",
     "output_type": "stream",
     "text": [
      "Train on 150 samples\n",
      "Epoch 1/100\n",
      "150/150 - 3s - loss: 1.3291\n",
      "Epoch 2/100\n",
      "150/150 - 0s - loss: 1.1191\n",
      "Epoch 3/100\n",
      "150/150 - 0s - loss: 0.9884\n",
      "Epoch 4/100\n",
      "150/150 - 0s - loss: 0.8958\n",
      "Epoch 5/100\n",
      "150/150 - 0s - loss: 0.8433\n",
      "Epoch 6/100\n",
      "150/150 - 0s - loss: 0.8112\n",
      "Epoch 7/100\n",
      "150/150 - 0s - loss: 0.7790\n",
      "Epoch 8/100\n",
      "150/150 - 0s - loss: 0.7478\n",
      "Epoch 9/100\n",
      "150/150 - 0s - loss: 0.7179\n",
      "Epoch 10/100\n",
      "150/150 - 0s - loss: 0.6938\n",
      "Epoch 11/100\n",
      "150/150 - 0s - loss: 0.6717\n",
      "Epoch 12/100\n",
      "150/150 - 0s - loss: 0.6481\n",
      "Epoch 13/100\n",
      "150/150 - 0s - loss: 0.6273\n",
      "Epoch 14/100\n",
      "150/150 - 0s - loss: 0.6055\n",
      "Epoch 15/100\n",
      "150/150 - 0s - loss: 0.5851\n",
      "Epoch 16/100\n",
      "150/150 - 0s - loss: 0.5655\n",
      "Epoch 17/100\n",
      "150/150 - 0s - loss: 0.5475\n",
      "Epoch 18/100\n",
      "150/150 - 0s - loss: 0.5278\n",
      "Epoch 19/100\n",
      "150/150 - 0s - loss: 0.5098\n",
      "Epoch 20/100\n",
      "150/150 - 0s - loss: 0.4912\n",
      "Epoch 21/100\n",
      "150/150 - 0s - loss: 0.4741\n",
      "Epoch 22/100\n",
      "150/150 - 0s - loss: 0.4556\n",
      "Epoch 23/100\n",
      "150/150 - 0s - loss: 0.4382\n",
      "Epoch 24/100\n",
      "150/150 - 0s - loss: 0.4222\n",
      "Epoch 25/100\n",
      "150/150 - 0s - loss: 0.4050\n",
      "Epoch 26/100\n",
      "150/150 - 0s - loss: 0.3897\n",
      "Epoch 27/100\n",
      "150/150 - 0s - loss: 0.3744\n",
      "Epoch 28/100\n",
      "150/150 - 0s - loss: 0.3596\n",
      "Epoch 29/100\n",
      "150/150 - 0s - loss: 0.3465\n",
      "Epoch 30/100\n",
      "150/150 - 0s - loss: 0.3320\n",
      "Epoch 31/100\n",
      "150/150 - 0s - loss: 0.3220\n",
      "Epoch 32/100\n",
      "150/150 - 0s - loss: 0.3101\n",
      "Epoch 33/100\n",
      "150/150 - 0s - loss: 0.2981\n",
      "Epoch 34/100\n",
      "150/150 - 0s - loss: 0.2869\n",
      "Epoch 35/100\n",
      "150/150 - 0s - loss: 0.2766\n",
      "Epoch 36/100\n",
      "150/150 - 0s - loss: 0.2668\n",
      "Epoch 37/100\n",
      "150/150 - 0s - loss: 0.2592\n",
      "Epoch 38/100\n",
      "150/150 - 0s - loss: 0.2490\n",
      "Epoch 39/100\n",
      "150/150 - 0s - loss: 0.2414\n",
      "Epoch 40/100\n",
      "150/150 - 0s - loss: 0.2330\n",
      "Epoch 41/100\n",
      "150/150 - 0s - loss: 0.2307\n",
      "Epoch 42/100\n",
      "150/150 - 0s - loss: 0.2199\n",
      "Epoch 43/100\n",
      "150/150 - 0s - loss: 0.2150\n",
      "Epoch 44/100\n",
      "150/150 - 0s - loss: 0.2048\n",
      "Epoch 45/100\n",
      "150/150 - 0s - loss: 0.2021\n",
      "Epoch 46/100\n",
      "150/150 - 0s - loss: 0.1940\n",
      "Epoch 47/100\n",
      "150/150 - 0s - loss: 0.1885\n",
      "Epoch 48/100\n",
      "150/150 - 0s - loss: 0.1824\n",
      "Epoch 49/100\n",
      "150/150 - 0s - loss: 0.1808\n",
      "Epoch 50/100\n",
      "150/150 - 0s - loss: 0.1740\n",
      "Epoch 51/100\n",
      "150/150 - 0s - loss: 0.1684\n",
      "Epoch 52/100\n",
      "150/150 - 0s - loss: 0.1642\n",
      "Epoch 53/100\n",
      "150/150 - 0s - loss: 0.1614\n",
      "Epoch 54/100\n",
      "150/150 - 0s - loss: 0.1563\n",
      "Epoch 55/100\n",
      "150/150 - 0s - loss: 0.1528\n",
      "Epoch 56/100\n",
      "150/150 - 0s - loss: 0.1489\n",
      "Epoch 57/100\n",
      "150/150 - 0s - loss: 0.1483\n",
      "Epoch 58/100\n",
      "150/150 - 0s - loss: 0.1456\n",
      "Epoch 59/100\n",
      "150/150 - 0s - loss: 0.1424\n",
      "Epoch 60/100\n",
      "150/150 - 0s - loss: 0.1368\n",
      "Epoch 61/100\n",
      "150/150 - 0s - loss: 0.1348\n",
      "Epoch 62/100\n",
      "150/150 - 0s - loss: 0.1319\n",
      "Epoch 63/100\n",
      "150/150 - 0s - loss: 0.1298\n",
      "Epoch 64/100\n",
      "150/150 - 0s - loss: 0.1268\n",
      "Epoch 65/100\n",
      "150/150 - 0s - loss: 0.1251\n",
      "Epoch 66/100\n",
      "150/150 - 0s - loss: 0.1222\n",
      "Epoch 67/100\n",
      "150/150 - 0s - loss: 0.1205\n",
      "Epoch 68/100\n",
      "150/150 - 0s - loss: 0.1176\n",
      "Epoch 69/100\n",
      "150/150 - 0s - loss: 0.1170\n",
      "Epoch 70/100\n",
      "150/150 - 0s - loss: 0.1164\n",
      "Epoch 71/100\n",
      "150/150 - 0s - loss: 0.1131\n",
      "Epoch 72/100\n",
      "150/150 - 0s - loss: 0.1129\n",
      "Epoch 73/100\n",
      "150/150 - 0s - loss: 0.1120\n",
      "Epoch 74/100\n",
      "150/150 - 0s - loss: 0.1085\n",
      "Epoch 75/100\n",
      "150/150 - 0s - loss: 0.1089\n",
      "Epoch 76/100\n",
      "150/150 - 0s - loss: 0.1048\n",
      "Epoch 77/100\n",
      "150/150 - 0s - loss: 0.1054\n",
      "Epoch 78/100\n",
      "150/150 - 0s - loss: 0.1041\n",
      "Epoch 79/100\n",
      "150/150 - 0s - loss: 0.1003\n",
      "Epoch 80/100\n",
      "150/150 - 0s - loss: 0.1012\n",
      "Epoch 81/100\n",
      "150/150 - 0s - loss: 0.0989\n",
      "Epoch 82/100\n",
      "150/150 - 0s - loss: 0.0985\n",
      "Epoch 83/100\n",
      "150/150 - 0s - loss: 0.0979\n",
      "Epoch 84/100\n",
      "150/150 - 0s - loss: 0.0986\n",
      "Epoch 85/100\n",
      "150/150 - 0s - loss: 0.1009\n",
      "Epoch 86/100\n",
      "150/150 - 0s - loss: 0.0941\n",
      "Epoch 87/100\n",
      "150/150 - 0s - loss: 0.0913\n",
      "Epoch 88/100\n",
      "150/150 - 0s - loss: 0.0939\n",
      "Epoch 89/100\n",
      "150/150 - 0s - loss: 0.0912\n",
      "Epoch 90/100\n",
      "150/150 - 0s - loss: 0.0914\n",
      "Epoch 91/100\n",
      "150/150 - 0s - loss: 0.0900\n",
      "Epoch 92/100\n",
      "150/150 - 0s - loss: 0.0908\n",
      "Epoch 93/100\n",
      "150/150 - 0s - loss: 0.0874\n",
      "Epoch 94/100\n",
      "150/150 - 0s - loss: 0.0876\n",
      "Epoch 95/100\n",
      "150/150 - 0s - loss: 0.0906\n",
      "Epoch 96/100\n",
      "150/150 - 0s - loss: 0.0908\n",
      "Epoch 97/100\n",
      "150/150 - 0s - loss: 0.0872\n",
      "Epoch 98/100\n",
      "150/150 - 0s - loss: 0.0849\n",
      "Epoch 99/100\n",
      "150/150 - 0s - loss: 0.0870\n",
      "Epoch 100/100\n",
      "150/150 - 0s - loss: 0.0855\n"
     ]
    },
    {
     "data": {
      "text/plain": [
       "<tensorflow.python.keras.callbacks.History at 0x26050ce4c88>"
      ]
     },
     "execution_count": 7,
     "metadata": {},
     "output_type": "execute_result"
    }
   ],
   "source": [
    "# Convert to numpy - Classification\n",
    "x = df[['SepalLengthCm', 'SepalWidthCm', 'PetalLengthCm', 'PetalWidthCm']].values\n",
    "dummies = pd.get_dummies(df['Species']) # Classification\n",
    "species = dummies.columns\n",
    "y = dummies.values\n",
    "\n",
    "\n",
    "# Build neural network\n",
    "model = Sequential()\n",
    "model.add(Dense(50, input_dim=x.shape[1], activation='relu')) # Hidden 1\n",
    "model.add(Dense(25, activation='relu')) # Hidden 2\n",
    "model.add(Dense(y.shape[1],activation='softmax')) # Output\n",
    "\n",
    "model.compile(loss='categorical_crossentropy', optimizer='adam')\n",
    "model.fit(x,y,verbose=2,epochs=100)"
   ]
  },
  {
   "cell_type": "code",
   "execution_count": 8,
   "metadata": {},
   "outputs": [
    {
     "name": "stdout",
     "output_type": "stream",
     "text": [
      "Training Accuracy: 0.98\n"
     ]
    }
   ],
   "source": [
    "from sklearn.metrics import accuracy_score\n",
    "pred = model.predict(x)\n",
    "predict_classes = np.argmax(pred,axis=1)\n",
    "expected_classes = np.argmax(y,axis=1)\n",
    "correct = accuracy_score(expected_classes,predict_classes)\n",
    "print(f\"Training Accuracy: {correct}\")"
   ]
  },
  {
   "cell_type": "code",
   "execution_count": 9,
   "metadata": {},
   "outputs": [
    {
     "name": "stdout",
     "output_type": "stream",
     "text": [
      "Model: \"sequential\"\n",
      "_________________________________________________________________\n",
      "Layer (type)                 Output Shape              Param #   \n",
      "=================================================================\n",
      "dense (Dense)                (None, 50)                250       \n",
      "_________________________________________________________________\n",
      "dense_1 (Dense)              (None, 25)                1275      \n",
      "_________________________________________________________________\n",
      "dense_2 (Dense)              (None, 3)                 78        \n",
      "=================================================================\n",
      "Total params: 1,603\n",
      "Trainable params: 1,603\n",
      "Non-trainable params: 0\n",
      "_________________________________________________________________\n"
     ]
    }
   ],
   "source": [
    "model.summary()"
   ]
  },
  {
   "cell_type": "code",
   "execution_count": 10,
   "metadata": {},
   "outputs": [
    {
     "name": "stdout",
     "output_type": "stream",
     "text": [
      "Model: \"sequential_1\"\n",
      "_________________________________________________________________\n",
      "Layer (type)                 Output Shape              Param #   \n",
      "=================================================================\n",
      "dense (Dense)                (None, 50)                250       \n",
      "_________________________________________________________________\n",
      "dense_1 (Dense)              (None, 25)                1275      \n",
      "_________________________________________________________________\n",
      "dense_2 (Dense)              (None, 3)                 78        \n",
      "=================================================================\n",
      "Total params: 1,603\n",
      "Trainable params: 1,603\n",
      "Non-trainable params: 0\n",
      "_________________________________________________________________\n"
     ]
    }
   ],
   "source": [
    "model2 = Sequential()\n",
    "for layer in model.layers:\n",
    "    model2.add(layer)\n",
    "model2.summary()"
   ]
  },
  {
   "cell_type": "code",
   "execution_count": 11,
   "metadata": {},
   "outputs": [
    {
     "name": "stdout",
     "output_type": "stream",
     "text": [
      "Training Accuracy: 0.98\n"
     ]
    }
   ],
   "source": [
    "from sklearn.metrics import accuracy_score\n",
    "pred = model2.predict(x)\n",
    "predict_classes = np.argmax(pred,axis=1)\n",
    "expected_classes = np.argmax(y,axis=1)\n",
    "correct = accuracy_score(expected_classes,predict_classes)\n",
    "print(f\"Training Accuracy: {correct}\")"
   ]
  },
  {
   "cell_type": "code",
   "execution_count": 12,
   "metadata": {},
   "outputs": [
    {
     "name": "stdout",
     "output_type": "stream",
     "text": [
      "Model: \"sequential_2\"\n",
      "_________________________________________________________________\n",
      "Layer (type)                 Output Shape              Param #   \n",
      "=================================================================\n",
      "dense (Dense)                (None, 50)                250       \n",
      "_________________________________________________________________\n",
      "dense_1 (Dense)              (None, 25)                1275      \n",
      "=================================================================\n",
      "Total params: 1,525\n",
      "Trainable params: 0\n",
      "Non-trainable params: 1,525\n",
      "_________________________________________________________________\n"
     ]
    }
   ],
   "source": [
    "model3 = Sequential()\n",
    "for i in range(2):\n",
    "    layer = model.layers[i]\n",
    "    layer.trainable = False\n",
    "    model3.add(layer)\n",
    "model3.summary()"
   ]
  },
  {
   "cell_type": "code",
   "execution_count": 13,
   "metadata": {},
   "outputs": [
    {
     "name": "stdout",
     "output_type": "stream",
     "text": [
      "Model: \"sequential_2\"\n",
      "_________________________________________________________________\n",
      "Layer (type)                 Output Shape              Param #   \n",
      "=================================================================\n",
      "dense (Dense)                (None, 50)                250       \n",
      "_________________________________________________________________\n",
      "dense_1 (Dense)              (None, 25)                1275      \n",
      "_________________________________________________________________\n",
      "dense_3 (Dense)              (None, 4)                 104       \n",
      "=================================================================\n",
      "Total params: 1,629\n",
      "Trainable params: 104\n",
      "Non-trainable params: 1,525\n",
      "_________________________________________________________________\n"
     ]
    }
   ],
   "source": [
    "model3.add(Dense(4,activation='softmax')) # Output\n",
    "\n",
    "model3.compile(loss='categorical_crossentropy', optimizer='adam')\n",
    "model3.summary()"
   ]
  },
  {
   "cell_type": "code",
   "execution_count": 14,
   "metadata": {},
   "outputs": [
    {
     "data": {
      "text/plain": [
       "<tensorflow.python.keras.callbacks.History at 0x26052878648>"
      ]
     },
     "execution_count": 14,
     "metadata": {},
     "output_type": "execute_result"
    }
   ],
   "source": [
    "x = np.array([\n",
    "    [2.1,0.9,0.8,1.1], # 1\n",
    "    [2.5,1.2,0.8,1.2],\n",
    "    [1.1,3.1,1.1,1.1], # 2\n",
    "    [0.8,2.2,0.7,1.2],\n",
    "    [1.2,0.7,3.1,1.1], # 3\n",
    "    [1.0,1.1,2.4,0.9],\n",
    "    [0.1,1.1,4.1,1.2], # 4\n",
    "    [1.2,0.8,3.1,0.1],\n",
    "])\n",
    "\n",
    "y = np.array([\n",
    "    [0,0,0,1],\n",
    "    [0,0,0,1],\n",
    "    [0,0,1,0],\n",
    "    [0,0,1,0],\n",
    "    [0,1,0,0],\n",
    "    [0,1,0,0],\n",
    "    [1,0,0,0],\n",
    "    [1,0,0,0],\n",
    "])\n",
    "\n",
    "model3.fit(x,y,verbose=0,epochs=1000)"
   ]
  },
  {
   "cell_type": "code",
   "execution_count": 15,
   "metadata": {},
   "outputs": [
    {
     "name": "stdout",
     "output_type": "stream",
     "text": [
      "Training Accuracy: 0.875\n"
     ]
    }
   ],
   "source": [
    "from sklearn.metrics import accuracy_score\n",
    "pred = model3.predict(x)\n",
    "predict_classes = np.argmax(pred,axis=1)\n",
    "expected_classes = np.argmax(y,axis=1)\n",
    "correct = accuracy_score(expected_classes,predict_classes)\n",
    "print(f\"Training Accuracy: {correct}\")"
   ]
  },
  {
   "cell_type": "code",
   "execution_count": null,
   "metadata": {},
   "outputs": [],
   "source": []
  }
 ],
 "metadata": {
  "kernelspec": {
   "display_name": "Python 3",
   "language": "python",
   "name": "python3"
  },
  "language_info": {
   "codemirror_mode": {
    "name": "ipython",
    "version": 3
   },
   "file_extension": ".py",
   "mimetype": "text/x-python",
   "name": "python",
   "nbconvert_exporter": "python",
   "pygments_lexer": "ipython3",
   "version": "3.7.5"
  }
 },
 "nbformat": 4,
 "nbformat_minor": 2
}
